{
  "cells": [
    {
      "cell_type": "markdown",
      "metadata": {
        "id": "view-in-github",
        "colab_type": "text"
      },
      "source": [
        "<a href=\"https://colab.research.google.com/github/AweSamarth/boilerplate-book-recommendation-engine/blob/main/fcc_book_recommendation_knn.ipynb\" target=\"_parent\"><img src=\"https://colab.research.google.com/assets/colab-badge.svg\" alt=\"Open In Colab\"/></a>"
      ]
    },
    {
      "cell_type": "code",
      "execution_count": 28,
      "metadata": {
        "id": "Y1onB6kUvo4Z"
      },
      "outputs": [],
      "source": [
        "# import libraries (you may add additional imports but you may not have to)\n",
        "import numpy as np\n",
        "import pandas as pd\n",
        "from scipy.sparse import csr_matrix\n",
        "from sklearn.neighbors import NearestNeighbors\n",
        "import matplotlib.pyplot as plt"
      ]
    },
    {
      "cell_type": "code",
      "execution_count": 29,
      "metadata": {
        "id": "iAQGqqO_vo4d",
        "outputId": "68f4ff6e-8f2b-4dc0-b4c5-4bc3bad4adec",
        "colab": {
          "base_uri": "https://localhost:8080/"
        }
      },
      "outputs": [
        {
          "output_type": "stream",
          "name": "stdout",
          "text": [
            "--2023-10-18 17:23:14--  https://cdn.freecodecamp.org/project-data/books/book-crossings.zip\n",
            "Resolving cdn.freecodecamp.org (cdn.freecodecamp.org)... 104.26.3.33, 104.26.2.33, 172.67.70.149, ...\n",
            "Connecting to cdn.freecodecamp.org (cdn.freecodecamp.org)|104.26.3.33|:443... connected.\n",
            "HTTP request sent, awaiting response... 200 OK\n",
            "Length: 26085508 (25M) [application/zip]\n",
            "Saving to: ‘book-crossings.zip.3’\n",
            "\n",
            "book-crossings.zip. 100%[===================>]  24.88M  96.3MB/s    in 0.3s    \n",
            "\n",
            "2023-10-18 17:23:14 (96.3 MB/s) - ‘book-crossings.zip.3’ saved [26085508/26085508]\n",
            "\n",
            "Archive:  book-crossings.zip\n",
            "replace BX-Book-Ratings.csv? [y]es, [n]o, [A]ll, [N]one, [r]ename: Y\n",
            "  inflating: BX-Book-Ratings.csv     \n",
            "replace BX-Books.csv? [y]es, [n]o, [A]ll, [N]one, [r]ename: A\n",
            "  inflating: BX-Books.csv            \n",
            "  inflating: BX-Users.csv            \n"
          ]
        }
      ],
      "source": [
        "# get data files\n",
        "!wget https://cdn.freecodecamp.org/project-data/books/book-crossings.zip\n",
        "\n",
        "!unzip book-crossings.zip\n",
        "\n",
        "books_filename = 'BX-Books.csv'\n",
        "ratings_filename = 'BX-Book-Ratings.csv'"
      ]
    },
    {
      "cell_type": "code",
      "execution_count": 30,
      "metadata": {
        "id": "NClILWOiEd6Q"
      },
      "outputs": [],
      "source": [
        "# import csv data into dataframes\n",
        "df_books = pd.read_csv(\n",
        "    books_filename,\n",
        "    encoding = \"ISO-8859-1\",\n",
        "    sep=\";\",\n",
        "    header=0,\n",
        "    names=['isbn', 'title', 'author'],\n",
        "    usecols=['isbn', 'title', 'author'],\n",
        "    dtype={'isbn': 'str', 'title': 'str', 'author': 'str'})\n",
        "\n",
        "df_ratings = pd.read_csv(\n",
        "    ratings_filename,\n",
        "    encoding = \"ISO-8859-1\",\n",
        "    sep=\";\",\n",
        "    header=0,\n",
        "    names=['user', 'isbn', 'rating'],\n",
        "    usecols=['user', 'isbn', 'rating'],\n",
        "    dtype={'user': 'int32', 'isbn': 'str', 'rating': 'float32'})"
      ]
    },
    {
      "cell_type": "code",
      "execution_count": 31,
      "metadata": {
        "id": "xAcXjkCFCh0A",
        "outputId": "aeed999b-4bda-4815-d3a7-29d6b40a5472",
        "colab": {
          "base_uri": "https://localhost:8080/"
        }
      },
      "outputs": [
        {
          "output_type": "stream",
          "name": "stdout",
          "text": [
            "             isbn                title           author    user  rating\n",
            "0      0440234743        The Testament     John Grisham  277478     0.0\n",
            "1      0440234743        The Testament     John Grisham    2977     0.0\n",
            "2      0440234743        The Testament     John Grisham    3363     0.0\n",
            "3      0440234743        The Testament     John Grisham    7346     9.0\n",
            "4      0440234743        The Testament     John Grisham    9856     0.0\n",
            "...           ...                  ...              ...     ...     ...\n",
            "13609  0446607657  When the Wind Blows  James Patterson  266056     0.0\n",
            "13610  0446607657  When the Wind Blows  James Patterson  266226     0.0\n",
            "13611  0446607657  When the Wind Blows  James Patterson  268330     0.0\n",
            "13612  0446607657  When the Wind Blows  James Patterson  271284     0.0\n",
            "13613  0446607657  When the Wind Blows  James Patterson  274308     0.0\n",
            "\n",
            "[13614 rows x 5 columns]\n"
          ]
        }
      ],
      "source": [
        "# add your code here - consider creating a new cell for each section of code\n",
        "df_books=(df_books[(df_books['author']!=\"\") & (df_books['isbn']!=\"\") & (df_books['title']!=\"\")])\n",
        "\n",
        "df_ratings=df_ratings[df_ratings['user'].isin(df_ratings['user'].value_counts()[df_ratings['user'].value_counts()>199].index)]\n",
        "df_ratings=df_ratings[df_ratings['isbn'].isin(df_ratings['isbn'].value_counts()[df_ratings['isbn'].value_counts()>99].index)]\n",
        "\n",
        "# print(df_ratings[df_ratings['isbn']==\"\"])\n",
        "df_merged= pd.merge(df_books, df_ratings, on='isbn')\n",
        "print(df_merged)\n",
        "\n"
      ]
    },
    {
      "cell_type": "code",
      "source": [
        "# matrix=csr_matrix((df_merged['isbn'], df_merged['rating'].values), shape=(2,2))\n",
        "# print(matrix)\n",
        "rating_books_pivoted=df_merged.pivot_table(index='title', columns='user', values='rating').fillna(0.0)\n",
        "print(rating_books_pivoted)"
      ],
      "metadata": {
        "id": "W0X_QemJUerE",
        "outputId": "8f114afe-d7e7-4dd6-830a-d137dec516a3",
        "colab": {
          "base_uri": "https://localhost:8080/"
        }
      },
      "execution_count": 32,
      "outputs": [
        {
          "output_type": "stream",
          "name": "stdout",
          "text": [
            "user                                                254     2276    2766    \\\n",
            "title                                                                        \n",
            "1st to Die: A Novel                                    0.0     0.0     0.0   \n",
            "A Is for Alibi (Kinsey Millhone Mysteries (Pape...     0.0     0.0     7.0   \n",
            "A Map of the World                                     0.0     0.0     0.0   \n",
            "A Painted House                                        0.0     0.0     0.0   \n",
            "A Prayer for Owen Meany                                0.0     0.0     0.0   \n",
            "...                                                    ...     ...     ...   \n",
            "Where the Heart Is (Oprah's Book Club (Paperback))     0.0     0.0     0.0   \n",
            "While I Was Gone                                       0.0     0.0     0.0   \n",
            "White Oleander : A Novel (Oprah's Book Club)           0.0     0.0     0.0   \n",
            "Wicked: The Life and Times of the Wicked Witch ...     0.0     0.0     0.0   \n",
            "Wild Animus                                            0.0     0.0     6.0   \n",
            "\n",
            "user                                                2977    3363    4017    \\\n",
            "title                                                                        \n",
            "1st to Die: A Novel                                    0.0     0.0     0.0   \n",
            "A Is for Alibi (Kinsey Millhone Mysteries (Pape...     0.0     0.0     0.0   \n",
            "A Map of the World                                     0.0     0.0     0.0   \n",
            "A Painted House                                        0.0     0.0     0.0   \n",
            "A Prayer for Owen Meany                                0.0     0.0     0.0   \n",
            "...                                                    ...     ...     ...   \n",
            "Where the Heart Is (Oprah's Book Club (Paperback))     0.0    10.0     0.0   \n",
            "While I Was Gone                                       0.0     0.0    10.0   \n",
            "White Oleander : A Novel (Oprah's Book Club)           0.0     0.0     0.0   \n",
            "Wicked: The Life and Times of the Wicked Witch ...     0.0     0.0     0.0   \n",
            "Wild Animus                                            0.0     0.0     0.0   \n",
            "\n",
            "user                                                4385    6242    6251    \\\n",
            "title                                                                        \n",
            "1st to Die: A Novel                                    0.0     0.0     0.0   \n",
            "A Is for Alibi (Kinsey Millhone Mysteries (Pape...     0.0     0.0     0.0   \n",
            "A Map of the World                                     0.0     0.0     0.0   \n",
            "A Painted House                                        0.0     0.0     0.0   \n",
            "A Prayer for Owen Meany                                0.0     0.0     0.0   \n",
            "...                                                    ...     ...     ...   \n",
            "Where the Heart Is (Oprah's Book Club (Paperback))     0.0     0.0     0.0   \n",
            "While I Was Gone                                       0.0     0.0     0.0   \n",
            "White Oleander : A Novel (Oprah's Book Club)           0.0     0.0     0.0   \n",
            "Wicked: The Life and Times of the Wicked Witch ...     0.0     7.0     0.0   \n",
            "Wild Animus                                            0.0     0.0     0.0   \n",
            "\n",
            "user                                                6323    ...  274004  \\\n",
            "title                                                       ...           \n",
            "1st to Die: A Novel                                    0.0  ...     0.0   \n",
            "A Is for Alibi (Kinsey Millhone Mysteries (Pape...     0.0  ...     0.0   \n",
            "A Map of the World                                     0.0  ...     0.0   \n",
            "A Painted House                                        0.0  ...     0.0   \n",
            "A Prayer for Owen Meany                                0.0  ...     0.0   \n",
            "...                                                    ...  ...     ...   \n",
            "Where the Heart Is (Oprah's Book Club (Paperback))     0.0  ...     0.0   \n",
            "While I Was Gone                                       0.0  ...     0.0   \n",
            "White Oleander : A Novel (Oprah's Book Club)           0.0  ...     0.0   \n",
            "Wicked: The Life and Times of the Wicked Witch ...     0.0  ...     0.0   \n",
            "Wild Animus                                            0.0  ...     0.0   \n",
            "\n",
            "user                                                274061  274301  274308  \\\n",
            "title                                                                        \n",
            "1st to Die: A Novel                                    0.0     0.0     0.0   \n",
            "A Is for Alibi (Kinsey Millhone Mysteries (Pape...     0.0    10.0     0.0   \n",
            "A Map of the World                                     0.0     0.0     0.0   \n",
            "A Painted House                                        0.0     0.0     0.0   \n",
            "A Prayer for Owen Meany                                0.0     0.0     0.0   \n",
            "...                                                    ...     ...     ...   \n",
            "Where the Heart Is (Oprah's Book Club (Paperback))     0.0     0.0     0.0   \n",
            "While I Was Gone                                       0.0     0.0     0.0   \n",
            "White Oleander : A Novel (Oprah's Book Club)           0.0     0.0     0.0   \n",
            "Wicked: The Life and Times of the Wicked Witch ...     0.0     0.0     0.0   \n",
            "Wild Animus                                            0.0     0.0     0.0   \n",
            "\n",
            "user                                                274808  275970  277427  \\\n",
            "title                                                                        \n",
            "1st to Die: A Novel                                    0.0     0.0     0.0   \n",
            "A Is for Alibi (Kinsey Millhone Mysteries (Pape...     0.0     0.0     0.0   \n",
            "A Map of the World                                     0.0     0.0     0.0   \n",
            "A Painted House                                        0.0     0.0     0.0   \n",
            "A Prayer for Owen Meany                                0.0     0.0     0.0   \n",
            "...                                                    ...     ...     ...   \n",
            "Where the Heart Is (Oprah's Book Club (Paperback))    10.0     0.0     0.0   \n",
            "While I Was Gone                                       0.0     0.0     0.0   \n",
            "White Oleander : A Novel (Oprah's Book Club)           0.0     0.0     0.0   \n",
            "Wicked: The Life and Times of the Wicked Witch ...     0.0     0.0     0.0   \n",
            "Wild Animus                                            0.0     0.0     0.0   \n",
            "\n",
            "user                                                277478  277639  278418  \n",
            "title                                                                       \n",
            "1st to Die: A Novel                                    0.0     0.0     0.0  \n",
            "A Is for Alibi (Kinsey Millhone Mysteries (Pape...     0.0     0.0     0.0  \n",
            "A Map of the World                                     0.0     0.0     0.0  \n",
            "A Painted House                                        0.0     0.0     0.0  \n",
            "A Prayer for Owen Meany                                0.0     0.0     0.0  \n",
            "...                                                    ...     ...     ...  \n",
            "Where the Heart Is (Oprah's Book Club (Paperback))     0.0     0.0     0.0  \n",
            "While I Was Gone                                       0.0     0.0     0.0  \n",
            "White Oleander : A Novel (Oprah's Book Club)           0.0     0.0     0.0  \n",
            "Wicked: The Life and Times of the Wicked Witch ...     0.0     0.0     0.0  \n",
            "Wild Animus                                            0.0     0.0     0.0  \n",
            "\n",
            "[99 rows x 857 columns]\n"
          ]
        }
      ]
    },
    {
      "cell_type": "code",
      "source": [
        "model=NearestNeighbors(metric='cosine', algorithm='brute', n_neighbors=5, n_jobs=-1)\n",
        "model.fit(rating_books_pivoted)"
      ],
      "metadata": {
        "id": "G2dKglWAZCqg",
        "outputId": "7f963758-b873-432d-d571-3686cdc1d887",
        "colab": {
          "base_uri": "https://localhost:8080/",
          "height": 74
        }
      },
      "execution_count": 35,
      "outputs": [
        {
          "output_type": "execute_result",
          "data": {
            "text/plain": [
              "NearestNeighbors(algorithm='brute', metric='cosine', n_jobs=-1)"
            ],
            "text/html": [
              "<style>#sk-container-id-5 {color: black;background-color: white;}#sk-container-id-5 pre{padding: 0;}#sk-container-id-5 div.sk-toggleable {background-color: white;}#sk-container-id-5 label.sk-toggleable__label {cursor: pointer;display: block;width: 100%;margin-bottom: 0;padding: 0.3em;box-sizing: border-box;text-align: center;}#sk-container-id-5 label.sk-toggleable__label-arrow:before {content: \"▸\";float: left;margin-right: 0.25em;color: #696969;}#sk-container-id-5 label.sk-toggleable__label-arrow:hover:before {color: black;}#sk-container-id-5 div.sk-estimator:hover label.sk-toggleable__label-arrow:before {color: black;}#sk-container-id-5 div.sk-toggleable__content {max-height: 0;max-width: 0;overflow: hidden;text-align: left;background-color: #f0f8ff;}#sk-container-id-5 div.sk-toggleable__content pre {margin: 0.2em;color: black;border-radius: 0.25em;background-color: #f0f8ff;}#sk-container-id-5 input.sk-toggleable__control:checked~div.sk-toggleable__content {max-height: 200px;max-width: 100%;overflow: auto;}#sk-container-id-5 input.sk-toggleable__control:checked~label.sk-toggleable__label-arrow:before {content: \"▾\";}#sk-container-id-5 div.sk-estimator input.sk-toggleable__control:checked~label.sk-toggleable__label {background-color: #d4ebff;}#sk-container-id-5 div.sk-label input.sk-toggleable__control:checked~label.sk-toggleable__label {background-color: #d4ebff;}#sk-container-id-5 input.sk-hidden--visually {border: 0;clip: rect(1px 1px 1px 1px);clip: rect(1px, 1px, 1px, 1px);height: 1px;margin: -1px;overflow: hidden;padding: 0;position: absolute;width: 1px;}#sk-container-id-5 div.sk-estimator {font-family: monospace;background-color: #f0f8ff;border: 1px dotted black;border-radius: 0.25em;box-sizing: border-box;margin-bottom: 0.5em;}#sk-container-id-5 div.sk-estimator:hover {background-color: #d4ebff;}#sk-container-id-5 div.sk-parallel-item::after {content: \"\";width: 100%;border-bottom: 1px solid gray;flex-grow: 1;}#sk-container-id-5 div.sk-label:hover label.sk-toggleable__label {background-color: #d4ebff;}#sk-container-id-5 div.sk-serial::before {content: \"\";position: absolute;border-left: 1px solid gray;box-sizing: border-box;top: 0;bottom: 0;left: 50%;z-index: 0;}#sk-container-id-5 div.sk-serial {display: flex;flex-direction: column;align-items: center;background-color: white;padding-right: 0.2em;padding-left: 0.2em;position: relative;}#sk-container-id-5 div.sk-item {position: relative;z-index: 1;}#sk-container-id-5 div.sk-parallel {display: flex;align-items: stretch;justify-content: center;background-color: white;position: relative;}#sk-container-id-5 div.sk-item::before, #sk-container-id-5 div.sk-parallel-item::before {content: \"\";position: absolute;border-left: 1px solid gray;box-sizing: border-box;top: 0;bottom: 0;left: 50%;z-index: -1;}#sk-container-id-5 div.sk-parallel-item {display: flex;flex-direction: column;z-index: 1;position: relative;background-color: white;}#sk-container-id-5 div.sk-parallel-item:first-child::after {align-self: flex-end;width: 50%;}#sk-container-id-5 div.sk-parallel-item:last-child::after {align-self: flex-start;width: 50%;}#sk-container-id-5 div.sk-parallel-item:only-child::after {width: 0;}#sk-container-id-5 div.sk-dashed-wrapped {border: 1px dashed gray;margin: 0 0.4em 0.5em 0.4em;box-sizing: border-box;padding-bottom: 0.4em;background-color: white;}#sk-container-id-5 div.sk-label label {font-family: monospace;font-weight: bold;display: inline-block;line-height: 1.2em;}#sk-container-id-5 div.sk-label-container {text-align: center;}#sk-container-id-5 div.sk-container {/* jupyter's `normalize.less` sets `[hidden] { display: none; }` but bootstrap.min.css set `[hidden] { display: none !important; }` so we also need the `!important` here to be able to override the default hidden behavior on the sphinx rendered scikit-learn.org. See: https://github.com/scikit-learn/scikit-learn/issues/21755 */display: inline-block !important;position: relative;}#sk-container-id-5 div.sk-text-repr-fallback {display: none;}</style><div id=\"sk-container-id-5\" class=\"sk-top-container\"><div class=\"sk-text-repr-fallback\"><pre>NearestNeighbors(algorithm=&#x27;brute&#x27;, metric=&#x27;cosine&#x27;, n_jobs=-1)</pre><b>In a Jupyter environment, please rerun this cell to show the HTML representation or trust the notebook. <br />On GitHub, the HTML representation is unable to render, please try loading this page with nbviewer.org.</b></div><div class=\"sk-container\" hidden><div class=\"sk-item\"><div class=\"sk-estimator sk-toggleable\"><input class=\"sk-toggleable__control sk-hidden--visually\" id=\"sk-estimator-id-5\" type=\"checkbox\" checked><label for=\"sk-estimator-id-5\" class=\"sk-toggleable__label sk-toggleable__label-arrow\">NearestNeighbors</label><div class=\"sk-toggleable__content\"><pre>NearestNeighbors(algorithm=&#x27;brute&#x27;, metric=&#x27;cosine&#x27;, n_jobs=-1)</pre></div></div></div></div></div>"
            ]
          },
          "metadata": {},
          "execution_count": 35
        }
      ]
    },
    {
      "cell_type": "code",
      "source": [
        "indices=model.kneighbors(rating_books_pivoted.loc[[\"Where the Heart Is (Oprah's Book Club (Paperback))\"]], 5, return_distance=True)\n",
        "print(indices[1][0])\n",
        "temparray=[]\n",
        "print(rating_books_pivoted.index[indices[1]][0])\n",
        "for index, value in enumerate(rating_books_pivoted.index[indices[1]][0]):\n",
        "    print((index+1),\". \",value)\n"
      ],
      "metadata": {
        "id": "OL9Kv6awekrS",
        "outputId": "9fd58866-2f40-43ee-9188-04364d82481f",
        "colab": {
          "base_uri": "https://localhost:8080/"
        }
      },
      "execution_count": 37,
      "outputs": [
        {
          "output_type": "stream",
          "name": "stdout",
          "text": [
            "[94 66 73 64 69]\n",
            "[\"Where the Heart Is (Oprah's Book Club (Paperback))\"\n",
            " 'The Lovely Bones: A Novel' \"The Pilot's Wife : A Novel\"\n",
            " 'The Joy Luck Club' 'The Notebook']\n",
            "1 .  Where the Heart Is (Oprah's Book Club (Paperback))\n",
            "2 .  The Lovely Bones: A Novel\n",
            "3 .  The Pilot's Wife : A Novel\n",
            "4 .  The Joy Luck Club\n",
            "5 .  The Notebook\n"
          ]
        },
        {
          "output_type": "stream",
          "name": "stderr",
          "text": [
            "<ipython-input-37-41782a481e67>:3: FutureWarning: Support for multi-dimensional indexing (e.g. `obj[:, None]`) is deprecated and will be removed in a future version.  Convert to a numpy array before indexing instead.\n",
            "  print(rating_books_pivoted.index[indices[1]][0])\n",
            "<ipython-input-37-41782a481e67>:4: FutureWarning: Support for multi-dimensional indexing (e.g. `obj[:, None]`) is deprecated and will be removed in a future version.  Convert to a numpy array before indexing instead.\n",
            "  for index, value in enumerate(rating_books_pivoted.index[indices[1]][0]):\n"
          ]
        }
      ]
    },
    {
      "cell_type": "code",
      "source": [
        "# print(df_ratings)\n",
        "# print(df_ratings['isbn'].value_counts())\n",
        "average_ratings = df_ratings.groupby('isbn')['rating'].mean().reset_index()\n",
        "# print(average_ratings)\n",
        "# average_ratings.plot()\n",
        "# five = NearestNeighbors(n_neighbors=5, algorithm='auto').fit(average_ratings['rating'])\n",
        "\n"
      ],
      "metadata": {
        "id": "1aBU5q6knMUc",
        "outputId": "6d445f6a-e98e-414c-e0d5-8e266ebe43bd",
        "colab": {
          "base_uri": "https://localhost:8080/",
          "height": 737
        }
      },
      "execution_count": null,
      "outputs": [
        {
          "output_type": "error",
          "ename": "ValueError",
          "evalue": "ignored",
          "traceback": [
            "\u001b[0;31m---------------------------------------------------------------------------\u001b[0m",
            "\u001b[0;31mValueError\u001b[0m                                Traceback (most recent call last)",
            "\u001b[0;32m<ipython-input-22-6fad3cdb8e6a>\u001b[0m in \u001b[0;36m<cell line: 6>\u001b[0;34m()\u001b[0m\n\u001b[1;32m      4\u001b[0m \u001b[0;31m# print(average_ratings)\u001b[0m\u001b[0;34m\u001b[0m\u001b[0;34m\u001b[0m\u001b[0m\n\u001b[1;32m      5\u001b[0m \u001b[0;31m# average_ratings.plot()\u001b[0m\u001b[0;34m\u001b[0m\u001b[0;34m\u001b[0m\u001b[0m\n\u001b[0;32m----> 6\u001b[0;31m \u001b[0mfive\u001b[0m \u001b[0;34m=\u001b[0m \u001b[0mNearestNeighbors\u001b[0m\u001b[0;34m(\u001b[0m\u001b[0mn_neighbors\u001b[0m\u001b[0;34m=\u001b[0m\u001b[0;36m5\u001b[0m\u001b[0;34m,\u001b[0m \u001b[0malgorithm\u001b[0m\u001b[0;34m=\u001b[0m\u001b[0;34m'auto'\u001b[0m\u001b[0;34m)\u001b[0m\u001b[0;34m.\u001b[0m\u001b[0mfit\u001b[0m\u001b[0;34m(\u001b[0m\u001b[0maverage_ratings\u001b[0m\u001b[0;34m[\u001b[0m\u001b[0;34m'rating'\u001b[0m\u001b[0;34m]\u001b[0m\u001b[0;34m)\u001b[0m\u001b[0;34m\u001b[0m\u001b[0;34m\u001b[0m\u001b[0m\n\u001b[0m\u001b[1;32m      7\u001b[0m \u001b[0;34m\u001b[0m\u001b[0m\n",
            "\u001b[0;32m/usr/local/lib/python3.10/dist-packages/sklearn/neighbors/_unsupervised.py\u001b[0m in \u001b[0;36mfit\u001b[0;34m(self, X, y)\u001b[0m\n\u001b[1;32m    174\u001b[0m         \"\"\"\n\u001b[1;32m    175\u001b[0m         \u001b[0mself\u001b[0m\u001b[0;34m.\u001b[0m\u001b[0m_validate_params\u001b[0m\u001b[0;34m(\u001b[0m\u001b[0;34m)\u001b[0m\u001b[0;34m\u001b[0m\u001b[0;34m\u001b[0m\u001b[0m\n\u001b[0;32m--> 176\u001b[0;31m         \u001b[0;32mreturn\u001b[0m \u001b[0mself\u001b[0m\u001b[0;34m.\u001b[0m\u001b[0m_fit\u001b[0m\u001b[0;34m(\u001b[0m\u001b[0mX\u001b[0m\u001b[0;34m)\u001b[0m\u001b[0;34m\u001b[0m\u001b[0;34m\u001b[0m\u001b[0m\n\u001b[0m",
            "\u001b[0;32m/usr/local/lib/python3.10/dist-packages/sklearn/neighbors/_base.py\u001b[0m in \u001b[0;36m_fit\u001b[0;34m(self, X, y)\u001b[0m\n\u001b[1;32m    489\u001b[0m         \u001b[0;32melse\u001b[0m\u001b[0;34m:\u001b[0m\u001b[0;34m\u001b[0m\u001b[0;34m\u001b[0m\u001b[0m\n\u001b[1;32m    490\u001b[0m             \u001b[0;32mif\u001b[0m \u001b[0;32mnot\u001b[0m \u001b[0misinstance\u001b[0m\u001b[0;34m(\u001b[0m\u001b[0mX\u001b[0m\u001b[0;34m,\u001b[0m \u001b[0;34m(\u001b[0m\u001b[0mKDTree\u001b[0m\u001b[0;34m,\u001b[0m \u001b[0mBallTree\u001b[0m\u001b[0;34m,\u001b[0m \u001b[0mNeighborsBase\u001b[0m\u001b[0;34m)\u001b[0m\u001b[0;34m)\u001b[0m\u001b[0;34m:\u001b[0m\u001b[0;34m\u001b[0m\u001b[0;34m\u001b[0m\u001b[0m\n\u001b[0;32m--> 491\u001b[0;31m                 \u001b[0mX\u001b[0m \u001b[0;34m=\u001b[0m \u001b[0mself\u001b[0m\u001b[0;34m.\u001b[0m\u001b[0m_validate_data\u001b[0m\u001b[0;34m(\u001b[0m\u001b[0mX\u001b[0m\u001b[0;34m,\u001b[0m \u001b[0maccept_sparse\u001b[0m\u001b[0;34m=\u001b[0m\u001b[0;34m\"csr\"\u001b[0m\u001b[0;34m,\u001b[0m \u001b[0morder\u001b[0m\u001b[0;34m=\u001b[0m\u001b[0;34m\"C\"\u001b[0m\u001b[0;34m)\u001b[0m\u001b[0;34m\u001b[0m\u001b[0;34m\u001b[0m\u001b[0m\n\u001b[0m\u001b[1;32m    492\u001b[0m \u001b[0;34m\u001b[0m\u001b[0m\n\u001b[1;32m    493\u001b[0m         \u001b[0mself\u001b[0m\u001b[0;34m.\u001b[0m\u001b[0m_check_algorithm_metric\u001b[0m\u001b[0;34m(\u001b[0m\u001b[0;34m)\u001b[0m\u001b[0;34m\u001b[0m\u001b[0;34m\u001b[0m\u001b[0m\n",
            "\u001b[0;32m/usr/local/lib/python3.10/dist-packages/sklearn/base.py\u001b[0m in \u001b[0;36m_validate_data\u001b[0;34m(self, X, y, reset, validate_separately, **check_params)\u001b[0m\n\u001b[1;32m    563\u001b[0m             \u001b[0;32mraise\u001b[0m \u001b[0mValueError\u001b[0m\u001b[0;34m(\u001b[0m\u001b[0;34m\"Validation should be done on X, y or both.\"\u001b[0m\u001b[0;34m)\u001b[0m\u001b[0;34m\u001b[0m\u001b[0;34m\u001b[0m\u001b[0m\n\u001b[1;32m    564\u001b[0m         \u001b[0;32melif\u001b[0m \u001b[0;32mnot\u001b[0m \u001b[0mno_val_X\u001b[0m \u001b[0;32mand\u001b[0m \u001b[0mno_val_y\u001b[0m\u001b[0;34m:\u001b[0m\u001b[0;34m\u001b[0m\u001b[0;34m\u001b[0m\u001b[0m\n\u001b[0;32m--> 565\u001b[0;31m             \u001b[0mX\u001b[0m \u001b[0;34m=\u001b[0m \u001b[0mcheck_array\u001b[0m\u001b[0;34m(\u001b[0m\u001b[0mX\u001b[0m\u001b[0;34m,\u001b[0m \u001b[0minput_name\u001b[0m\u001b[0;34m=\u001b[0m\u001b[0;34m\"X\"\u001b[0m\u001b[0;34m,\u001b[0m \u001b[0;34m**\u001b[0m\u001b[0mcheck_params\u001b[0m\u001b[0;34m)\u001b[0m\u001b[0;34m\u001b[0m\u001b[0;34m\u001b[0m\u001b[0m\n\u001b[0m\u001b[1;32m    566\u001b[0m             \u001b[0mout\u001b[0m \u001b[0;34m=\u001b[0m \u001b[0mX\u001b[0m\u001b[0;34m\u001b[0m\u001b[0;34m\u001b[0m\u001b[0m\n\u001b[1;32m    567\u001b[0m         \u001b[0;32melif\u001b[0m \u001b[0mno_val_X\u001b[0m \u001b[0;32mand\u001b[0m \u001b[0;32mnot\u001b[0m \u001b[0mno_val_y\u001b[0m\u001b[0;34m:\u001b[0m\u001b[0;34m\u001b[0m\u001b[0;34m\u001b[0m\u001b[0m\n",
            "\u001b[0;32m/usr/local/lib/python3.10/dist-packages/sklearn/utils/validation.py\u001b[0m in \u001b[0;36mcheck_array\u001b[0;34m(array, accept_sparse, accept_large_sparse, dtype, order, copy, force_all_finite, ensure_2d, allow_nd, ensure_min_samples, ensure_min_features, estimator, input_name)\u001b[0m\n\u001b[1;32m    900\u001b[0m             \u001b[0;31m# If input is 1D raise error\u001b[0m\u001b[0;34m\u001b[0m\u001b[0;34m\u001b[0m\u001b[0m\n\u001b[1;32m    901\u001b[0m             \u001b[0;32mif\u001b[0m \u001b[0marray\u001b[0m\u001b[0;34m.\u001b[0m\u001b[0mndim\u001b[0m \u001b[0;34m==\u001b[0m \u001b[0;36m1\u001b[0m\u001b[0;34m:\u001b[0m\u001b[0;34m\u001b[0m\u001b[0;34m\u001b[0m\u001b[0m\n\u001b[0;32m--> 902\u001b[0;31m                 raise ValueError(\n\u001b[0m\u001b[1;32m    903\u001b[0m                     \u001b[0;34m\"Expected 2D array, got 1D array instead:\\narray={}.\\n\"\u001b[0m\u001b[0;34m\u001b[0m\u001b[0;34m\u001b[0m\u001b[0m\n\u001b[1;32m    904\u001b[0m                     \u001b[0;34m\"Reshape your data either using array.reshape(-1, 1) if \"\u001b[0m\u001b[0;34m\u001b[0m\u001b[0;34m\u001b[0m\u001b[0m\n",
            "\u001b[0;31mValueError\u001b[0m: Expected 2D array, got 1D array instead:\narray=[2.537815   1.9095023  1.406015   2.7777777  1.9315069  2.5785124\n 2.5925925  1.1756756  2.9642856  1.648      2.33125    2.371212\n 3.128655   2.3014705  3.128713   2.5238094  2.1262136  2.4956522\n 1.6929824  2.116959   3.1985295  2.0265486  2.5080645  2.4147727\n 3.3137255  1.4385965  2.0072992  2.3253012  1.5043478  1.1792452\n 1.184466   1.7058823  2.125874   1.9454546  1.772152   2.0095239\n 1.3365384  1.4913793  2.7166667  3.2118645  1.7844827  3.170507\n 1.338983   2.6486487  3.0530972  3.0733945  4.262136   2.1449275\n 1.3106796  2.1176472  2.08867    2.462069   1.8853211  1.7246376\n 1.647482   1.3478261  1.273224   1.4656489  1.9473684  1.7463768\n 1.6666666  1.4354838  1.6589147  1.7239264  1.2833333  3.8633094\n 1.4418604  1.7481482  2.1538463  1.6766467  1.22293    1.7843137\n 1.8613862  2.472441   1.66       2.4480875  2.7368422  2.6666667\n 1.575      1.93       1.6791044  1.8285714  2.234375   1.778761\n 3.2076502  2.1825397  2.1923077  1.9375     2.3235295  1.950495\n 1.9179487  2.877095   1.8671875  2.7891567  3.4827585  1.7142857\n 1.8488373  1.58       0.43561643 2.3529413 ].\nReshape your data either using array.reshape(-1, 1) if your data has a single feature or array.reshape(1, -1) if it contains a single sample."
          ]
        }
      ]
    },
    {
      "cell_type": "code",
      "execution_count": null,
      "metadata": {
        "id": "f5ZUd-L1SQz7"
      },
      "outputs": [],
      "source": [
        "# function to return recommended books - this will be tested\n",
        "def get_recommends(book = \"\"):\n",
        "\n",
        "\n",
        "  return recommended_books"
      ]
    },
    {
      "cell_type": "code",
      "execution_count": null,
      "metadata": {
        "id": "jd2SLCh8oxMh",
        "outputId": "c275da1f-9039-47c9-fa5f-21fc0fc3e480",
        "colab": {
          "base_uri": "https://localhost:8080/",
          "height": 331
        }
      },
      "outputs": [
        {
          "output_type": "error",
          "ename": "NameError",
          "evalue": "ignored",
          "traceback": [
            "\u001b[0;31m---------------------------------------------------------------------------\u001b[0m",
            "\u001b[0;31mNameError\u001b[0m                                 Traceback (most recent call last)",
            "\u001b[0;32m<ipython-input-17-ba05427b1c51>\u001b[0m in \u001b[0;36m<cell line: 1>\u001b[0;34m()\u001b[0m\n\u001b[0;32m----> 1\u001b[0;31m \u001b[0mbooks\u001b[0m \u001b[0;34m=\u001b[0m \u001b[0mget_recommends\u001b[0m\u001b[0;34m(\u001b[0m\u001b[0;34m\"Where the Heart Is (Oprah's Book Club (Paperback))\"\u001b[0m\u001b[0;34m)\u001b[0m\u001b[0;34m\u001b[0m\u001b[0;34m\u001b[0m\u001b[0m\n\u001b[0m\u001b[1;32m      2\u001b[0m \u001b[0mprint\u001b[0m\u001b[0;34m(\u001b[0m\u001b[0mbooks\u001b[0m\u001b[0;34m)\u001b[0m\u001b[0;34m\u001b[0m\u001b[0;34m\u001b[0m\u001b[0m\n\u001b[1;32m      3\u001b[0m \u001b[0;34m\u001b[0m\u001b[0m\n\u001b[1;32m      4\u001b[0m \u001b[0;32mdef\u001b[0m \u001b[0mtest_book_recommendation\u001b[0m\u001b[0;34m(\u001b[0m\u001b[0;34m)\u001b[0m\u001b[0;34m:\u001b[0m\u001b[0;34m\u001b[0m\u001b[0;34m\u001b[0m\u001b[0m\n\u001b[1;32m      5\u001b[0m   \u001b[0mtest_pass\u001b[0m \u001b[0;34m=\u001b[0m \u001b[0;32mTrue\u001b[0m\u001b[0;34m\u001b[0m\u001b[0;34m\u001b[0m\u001b[0m\n",
            "\u001b[0;32m<ipython-input-16-b300eb0b05dd>\u001b[0m in \u001b[0;36mget_recommends\u001b[0;34m(book)\u001b[0m\n\u001b[1;32m      3\u001b[0m \u001b[0;34m\u001b[0m\u001b[0m\n\u001b[1;32m      4\u001b[0m \u001b[0;34m\u001b[0m\u001b[0m\n\u001b[0;32m----> 5\u001b[0;31m   \u001b[0;32mreturn\u001b[0m \u001b[0mrecommended_books\u001b[0m\u001b[0;34m\u001b[0m\u001b[0;34m\u001b[0m\u001b[0m\n\u001b[0m",
            "\u001b[0;31mNameError\u001b[0m: name 'recommended_books' is not defined"
          ]
        }
      ],
      "source": [
        "books = get_recommends(\"Where the Heart Is (Oprah's Book Club (Paperback))\")\n",
        "print(books)\n",
        "\n",
        "def test_book_recommendation():\n",
        "  test_pass = True\n",
        "  recommends = get_recommends(\"Where the Heart Is (Oprah's Book Club (Paperback))\")\n",
        "  if recommends[0] != \"Where the Heart Is (Oprah's Book Club (Paperback))\":\n",
        "    test_pass = False\n",
        "  recommended_books = [\"I'll Be Seeing You\", 'The Weight of Water', 'The Surgeon', 'I Know This Much Is True']\n",
        "  recommended_books_dist = [0.8, 0.77, 0.77, 0.77]\n",
        "  for i in range(2):\n",
        "    if recommends[1][i][0] not in recommended_books:\n",
        "      test_pass = False\n",
        "    if abs(recommends[1][i][1] - recommended_books_dist[i]) >= 0.05:\n",
        "      test_pass = False\n",
        "  if test_pass:\n",
        "    print(\"You passed the challenge! 🎉🎉🎉🎉🎉\")\n",
        "  else:\n",
        "    print(\"You haven't passed yet. Keep trying!\")\n",
        "\n",
        "test_book_recommendation()"
      ]
    }
  ],
  "metadata": {
    "colab": {
      "name": "fcc_book_recommendation_knn.ipynb",
      "provenance": [],
      "include_colab_link": true
    },
    "kernelspec": {
      "display_name": "Python 3",
      "language": "python",
      "name": "python3"
    },
    "language_info": {
      "codemirror_mode": {
        "name": "ipython",
        "version": 3
      },
      "file_extension": ".py",
      "mimetype": "text/x-python",
      "name": "python",
      "nbconvert_exporter": "python",
      "pygments_lexer": "ipython3",
      "version": "3.6.5"
    }
  },
  "nbformat": 4,
  "nbformat_minor": 0
}