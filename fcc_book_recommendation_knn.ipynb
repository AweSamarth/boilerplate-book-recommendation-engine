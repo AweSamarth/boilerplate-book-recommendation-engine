{
  "cells": [
    {
      "cell_type": "markdown",
      "metadata": {
        "id": "view-in-github",
        "colab_type": "text"
      },
      "source": [
        "<a href=\"https://colab.research.google.com/github/AweSamarth/boilerplate-book-recommendation-engine/blob/main/fcc_book_recommendation_knn.ipynb\" target=\"_parent\"><img src=\"https://colab.research.google.com/assets/colab-badge.svg\" alt=\"Open In Colab\"/></a>"
      ]
    },
    {
      "cell_type": "code",
      "execution_count": 1,
      "metadata": {
        "id": "Y1onB6kUvo4Z"
      },
      "outputs": [],
      "source": [
        "# import libraries (you may add additional imports but you may not have to)\n",
        "import numpy as np\n",
        "import pandas as pd\n",
        "from scipy.sparse import csr_matrix\n",
        "from sklearn.neighbors import NearestNeighbors\n",
        "import matplotlib.pyplot as plt"
      ]
    },
    {
      "cell_type": "code",
      "execution_count": null,
      "metadata": {
        "id": "iAQGqqO_vo4d"
      },
      "outputs": [],
      "source": [
        "# get data files\n",
        "!wget https://cdn.freecodecamp.org/project-data/books/book-crossings.zip\n",
        "\n",
        "!unzip book-crossings.zip\n",
        "\n",
        "books_filename = 'BX-Books.csv'\n",
        "ratings_filename = 'BX-Book-Ratings.csv'"
      ]
    },
    {
      "cell_type": "code",
      "execution_count": 74,
      "metadata": {
        "id": "NClILWOiEd6Q"
      },
      "outputs": [],
      "source": [
        "# import csv data into dataframes\n",
        "df_books = pd.read_csv(\n",
        "    books_filename,\n",
        "    encoding = \"ISO-8859-1\",\n",
        "    sep=\";\",\n",
        "    header=0,\n",
        "    names=['isbn', 'title', 'author'],\n",
        "    usecols=['isbn', 'title', 'author'],\n",
        "    dtype={'isbn': 'str', 'title': 'str', 'author': 'str'})\n",
        "\n",
        "df_ratings = pd.read_csv(\n",
        "    ratings_filename,\n",
        "    encoding = \"ISO-8859-1\",\n",
        "    sep=\";\",\n",
        "    header=0,\n",
        "    names=['user', 'isbn', 'rating'],\n",
        "    usecols=['user', 'isbn', 'rating'],\n",
        "    dtype={'user': 'int32', 'isbn': 'str', 'rating': 'float32'})"
      ]
    },
    {
      "cell_type": "code",
      "execution_count": 75,
      "metadata": {
        "id": "xAcXjkCFCh0A",
        "outputId": "25438606-b24a-45eb-eef3-a635e4fafb1d",
        "colab": {
          "base_uri": "https://localhost:8080/"
        }
      },
      "outputs": [
        {
          "output_type": "stream",
          "name": "stdout",
          "text": [
            "           user        isbn  rating\n",
            "1456     277427  002542730X    10.0\n",
            "1469     277427  0060930535     0.0\n",
            "1471     277427  0060934417     0.0\n",
            "1474     277427  0061009059     9.0\n",
            "1484     277427  0140067477     0.0\n",
            "...         ...         ...     ...\n",
            "1147304  275970  0804111359     0.0\n",
            "1147436  275970  140003065X     0.0\n",
            "1147439  275970  1400031346     0.0\n",
            "1147440  275970  1400031354     0.0\n",
            "1147441  275970  1400031362     0.0\n",
            "\n",
            "[49781 rows x 3 columns]\n"
          ]
        }
      ],
      "source": [
        "# add your code here - consider creating a new cell for each section of code\n",
        "df_books=(df_books[(df_books['author']!=\"\") & (df_books['isbn']!=\"\") & (df_books['title']!=\"\")])\n",
        "# print(df_ratings)\n",
        "df_ratings_userrem=df_ratings[df_ratings['user'].isin(df_ratings['user'].value_counts()[df_ratings['user'].value_counts()<200].index)]\n",
        "df_ratings_bookrem=df_ratings[df_ratings['isbn'].isin(df_ratings['isbn'].value_counts()[df_ratings['isbn'].value_counts()<100].index)]\n",
        "# print(df_ratings_bookrem)\n",
        "# print(df_ratings_userrem)\n",
        "\n",
        "df_ratings=df_ratings[~df_ratings['user'].isin(df_ratings_userrem['user'])]\n",
        "df_ratings=df_ratings[~df_ratings['isbn'].isin(df_ratings_bookrem['isbn'])]\n",
        "print(df_ratings)\n",
        "\n",
        "\n"
      ]
    },
    {
      "cell_type": "code",
      "source": [
        "df_merged= pd.merge(df_books, df_ratings, on='isbn')\n",
        "print(df_merged)\n",
        "# print(df_merged.shape)\n",
        "# df_merged=df_merged[df_merged['user'].isin(df_merged['user'].value_counts()[df_merged['user'].value_counts()>199].index)]\n",
        "# df_merged=df_merged[df_merged['isbn'].isin(df_merged['isbn'].value_counts()[df_merged['isbn'].value_counts()>99].index)]\n",
        "# print(df_merged)\n"
      ],
      "metadata": {
        "id": "meP_IX7MSyLK",
        "outputId": "5b7f4540-e3f6-40d2-a375-0192a75c8838",
        "colab": {
          "base_uri": "https://localhost:8080/"
        }
      },
      "execution_count": 76,
      "outputs": [
        {
          "output_type": "stream",
          "name": "stdout",
          "text": [
            "             isbn                                              title  \\\n",
            "0      0440234743                                      The Testament   \n",
            "1      0440234743                                      The Testament   \n",
            "2      0440234743                                      The Testament   \n",
            "3      0440234743                                      The Testament   \n",
            "4      0440234743                                      The Testament   \n",
            "...           ...                                                ...   \n",
            "49512  0515135739  Eleventh Hour: An FBI Thriller (FBI Thriller (...   \n",
            "49513  0515135739  Eleventh Hour: An FBI Thriller (FBI Thriller (...   \n",
            "49514  0515135739  Eleventh Hour: An FBI Thriller (FBI Thriller (...   \n",
            "49515  0515135739  Eleventh Hour: An FBI Thriller (FBI Thriller (...   \n",
            "49516  0515135739  Eleventh Hour: An FBI Thriller (FBI Thriller (...   \n",
            "\n",
            "                  author    user  rating  \n",
            "0           John Grisham  277478     0.0  \n",
            "1           John Grisham    2977     0.0  \n",
            "2           John Grisham    3363     0.0  \n",
            "3           John Grisham    7346     9.0  \n",
            "4           John Grisham    9856     0.0  \n",
            "...                  ...     ...     ...  \n",
            "49512  Catherine Coulter  236283     0.0  \n",
            "49513  Catherine Coulter  251613     0.0  \n",
            "49514  Catherine Coulter  252071     0.0  \n",
            "49515  Catherine Coulter  256407     0.0  \n",
            "49516  Catherine Coulter  262399     0.0  \n",
            "\n",
            "[49517 rows x 5 columns]\n"
          ]
        }
      ]
    },
    {
      "cell_type": "code",
      "source": [
        "# matrix=csr_matrix((df_merged['isbn'], df_merged['rating'].values), shape=(2,2))\n",
        "# print(matrix)\n",
        "rating_books_pivoted=df_merged.pivot_table(index='title', columns='user', values='rating').fillna(0.0)\n",
        "print(rating_books_pivoted)"
      ],
      "metadata": {
        "id": "W0X_QemJUerE",
        "outputId": "c9074c88-5436-49dd-8988-f292becf882a",
        "colab": {
          "base_uri": "https://localhost:8080/"
        }
      },
      "execution_count": 82,
      "outputs": [
        {
          "output_type": "stream",
          "name": "stdout",
          "text": [
            "user                                                254     2276    2766    \\\n",
            "title                                                                        \n",
            "1984                                                   9.0     0.0     0.0   \n",
            "1st to Die: A Novel                                    0.0     0.0     0.0   \n",
            "2nd Chance                                             0.0    10.0     0.0   \n",
            "4 Blondes                                              0.0     0.0     0.0   \n",
            "A Beautiful Mind: The Life of Mathematical Geni...     0.0     0.0     0.0   \n",
            "...                                                    ...     ...     ...   \n",
            "Without Remorse                                        0.0     0.0     0.0   \n",
            "Year of Wonders                                        0.0     0.0     0.0   \n",
            "You Belong To Me                                       0.0     0.0     0.0   \n",
            "Zen and the Art of Motorcycle Maintenance: An I...     0.0     0.0     0.0   \n",
            "\\O\\\" Is for Outlaw\"                                    0.0     0.0     0.0   \n",
            "\n",
            "user                                                2977    3363    4017    \\\n",
            "title                                                                        \n",
            "1984                                                   0.0     0.0     0.0   \n",
            "1st to Die: A Novel                                    0.0     0.0     0.0   \n",
            "2nd Chance                                             0.0     0.0     0.0   \n",
            "4 Blondes                                              0.0     0.0     0.0   \n",
            "A Beautiful Mind: The Life of Mathematical Geni...     0.0     0.0     0.0   \n",
            "...                                                    ...     ...     ...   \n",
            "Without Remorse                                        0.0     0.0     0.0   \n",
            "Year of Wonders                                        7.0     0.0     0.0   \n",
            "You Belong To Me                                       0.0     0.0     0.0   \n",
            "Zen and the Art of Motorcycle Maintenance: An I...     0.0     0.0     0.0   \n",
            "\\O\\\" Is for Outlaw\"                                    0.0     0.0     0.0   \n",
            "\n",
            "user                                                4385    6242    6251    \\\n",
            "title                                                                        \n",
            "1984                                                   0.0     0.0     0.0   \n",
            "1st to Die: A Novel                                    0.0     0.0     0.0   \n",
            "2nd Chance                                             0.0     0.0     0.0   \n",
            "4 Blondes                                              0.0     0.0     0.0   \n",
            "A Beautiful Mind: The Life of Mathematical Geni...     0.0     0.0     0.0   \n",
            "...                                                    ...     ...     ...   \n",
            "Without Remorse                                        0.0     0.0     0.0   \n",
            "Year of Wonders                                        0.0     7.0     0.0   \n",
            "You Belong To Me                                       0.0     0.0     0.0   \n",
            "Zen and the Art of Motorcycle Maintenance: An I...     0.0     0.0     0.0   \n",
            "\\O\\\" Is for Outlaw\"                                    0.0     0.0     0.0   \n",
            "\n",
            "user                                                6323    ...  274004  \\\n",
            "title                                                       ...           \n",
            "1984                                                   0.0  ...     0.0   \n",
            "1st to Die: A Novel                                    0.0  ...     0.0   \n",
            "2nd Chance                                             0.0  ...     0.0   \n",
            "4 Blondes                                              0.0  ...     0.0   \n",
            "A Beautiful Mind: The Life of Mathematical Geni...     0.0  ...     0.0   \n",
            "...                                                    ...  ...     ...   \n",
            "Without Remorse                                        0.0  ...     0.0   \n",
            "Year of Wonders                                        0.0  ...     0.0   \n",
            "You Belong To Me                                       0.0  ...     0.0   \n",
            "Zen and the Art of Motorcycle Maintenance: An I...     0.0  ...     0.0   \n",
            "\\O\\\" Is for Outlaw\"                                    0.0  ...     0.0   \n",
            "\n",
            "user                                                274061  274301  274308  \\\n",
            "title                                                                        \n",
            "1984                                                   0.0     0.0     0.0   \n",
            "1st to Die: A Novel                                    0.0     0.0     0.0   \n",
            "2nd Chance                                             0.0     0.0     0.0   \n",
            "4 Blondes                                              0.0     0.0     0.0   \n",
            "A Beautiful Mind: The Life of Mathematical Geni...     0.0     0.0     0.0   \n",
            "...                                                    ...     ...     ...   \n",
            "Without Remorse                                        0.0     0.0     0.0   \n",
            "Year of Wonders                                        0.0     0.0     0.0   \n",
            "You Belong To Me                                       0.0     0.0     0.0   \n",
            "Zen and the Art of Motorcycle Maintenance: An I...     0.0     0.0     0.0   \n",
            "\\O\\\" Is for Outlaw\"                                    0.0     8.0     0.0   \n",
            "\n",
            "user                                                274808  275970  277427  \\\n",
            "title                                                                        \n",
            "1984                                                   0.0     0.0     0.0   \n",
            "1st to Die: A Novel                                    0.0     0.0     0.0   \n",
            "2nd Chance                                             0.0     0.0     0.0   \n",
            "4 Blondes                                              0.0     0.0     0.0   \n",
            "A Beautiful Mind: The Life of Mathematical Geni...     0.0     0.0     0.0   \n",
            "...                                                    ...     ...     ...   \n",
            "Without Remorse                                        0.0     0.0     0.0   \n",
            "Year of Wonders                                        0.0     0.0     0.0   \n",
            "You Belong To Me                                       0.0     0.0     0.0   \n",
            "Zen and the Art of Motorcycle Maintenance: An I...     0.0     0.0     0.0   \n",
            "\\O\\\" Is for Outlaw\"                                    0.0     0.0     0.0   \n",
            "\n",
            "user                                                277478  277639  278418  \n",
            "title                                                                       \n",
            "1984                                                   0.0     0.0     0.0  \n",
            "1st to Die: A Novel                                    0.0     0.0     0.0  \n",
            "2nd Chance                                             0.0     0.0     0.0  \n",
            "4 Blondes                                              0.0     0.0     0.0  \n",
            "A Beautiful Mind: The Life of Mathematical Geni...     0.0     0.0     0.0  \n",
            "...                                                    ...     ...     ...  \n",
            "Without Remorse                                        0.0     0.0     0.0  \n",
            "Year of Wonders                                        0.0     0.0     0.0  \n",
            "You Belong To Me                                       0.0     0.0     0.0  \n",
            "Zen and the Art of Motorcycle Maintenance: An I...     0.0     0.0     0.0  \n",
            "\\O\\\" Is for Outlaw\"                                    0.0     0.0     0.0  \n",
            "\n",
            "[673 rows x 888 columns]\n"
          ]
        }
      ]
    },
    {
      "cell_type": "code",
      "source": [
        "model=NearestNeighbors(metric='cosine', algorithm='auto', n_neighbors=7)\n",
        "model.fit(rating_books_pivoted)"
      ],
      "metadata": {
        "id": "G2dKglWAZCqg",
        "outputId": "a4b6e68f-02be-4e89-f5c4-0c090aa2a9db",
        "colab": {
          "base_uri": "https://localhost:8080/",
          "height": 74
        }
      },
      "execution_count": 85,
      "outputs": [
        {
          "output_type": "execute_result",
          "data": {
            "text/plain": [
              "NearestNeighbors(metric='cosine', n_neighbors=7)"
            ],
            "text/html": [
              "<style>#sk-container-id-6 {color: black;background-color: white;}#sk-container-id-6 pre{padding: 0;}#sk-container-id-6 div.sk-toggleable {background-color: white;}#sk-container-id-6 label.sk-toggleable__label {cursor: pointer;display: block;width: 100%;margin-bottom: 0;padding: 0.3em;box-sizing: border-box;text-align: center;}#sk-container-id-6 label.sk-toggleable__label-arrow:before {content: \"▸\";float: left;margin-right: 0.25em;color: #696969;}#sk-container-id-6 label.sk-toggleable__label-arrow:hover:before {color: black;}#sk-container-id-6 div.sk-estimator:hover label.sk-toggleable__label-arrow:before {color: black;}#sk-container-id-6 div.sk-toggleable__content {max-height: 0;max-width: 0;overflow: hidden;text-align: left;background-color: #f0f8ff;}#sk-container-id-6 div.sk-toggleable__content pre {margin: 0.2em;color: black;border-radius: 0.25em;background-color: #f0f8ff;}#sk-container-id-6 input.sk-toggleable__control:checked~div.sk-toggleable__content {max-height: 200px;max-width: 100%;overflow: auto;}#sk-container-id-6 input.sk-toggleable__control:checked~label.sk-toggleable__label-arrow:before {content: \"▾\";}#sk-container-id-6 div.sk-estimator input.sk-toggleable__control:checked~label.sk-toggleable__label {background-color: #d4ebff;}#sk-container-id-6 div.sk-label input.sk-toggleable__control:checked~label.sk-toggleable__label {background-color: #d4ebff;}#sk-container-id-6 input.sk-hidden--visually {border: 0;clip: rect(1px 1px 1px 1px);clip: rect(1px, 1px, 1px, 1px);height: 1px;margin: -1px;overflow: hidden;padding: 0;position: absolute;width: 1px;}#sk-container-id-6 div.sk-estimator {font-family: monospace;background-color: #f0f8ff;border: 1px dotted black;border-radius: 0.25em;box-sizing: border-box;margin-bottom: 0.5em;}#sk-container-id-6 div.sk-estimator:hover {background-color: #d4ebff;}#sk-container-id-6 div.sk-parallel-item::after {content: \"\";width: 100%;border-bottom: 1px solid gray;flex-grow: 1;}#sk-container-id-6 div.sk-label:hover label.sk-toggleable__label {background-color: #d4ebff;}#sk-container-id-6 div.sk-serial::before {content: \"\";position: absolute;border-left: 1px solid gray;box-sizing: border-box;top: 0;bottom: 0;left: 50%;z-index: 0;}#sk-container-id-6 div.sk-serial {display: flex;flex-direction: column;align-items: center;background-color: white;padding-right: 0.2em;padding-left: 0.2em;position: relative;}#sk-container-id-6 div.sk-item {position: relative;z-index: 1;}#sk-container-id-6 div.sk-parallel {display: flex;align-items: stretch;justify-content: center;background-color: white;position: relative;}#sk-container-id-6 div.sk-item::before, #sk-container-id-6 div.sk-parallel-item::before {content: \"\";position: absolute;border-left: 1px solid gray;box-sizing: border-box;top: 0;bottom: 0;left: 50%;z-index: -1;}#sk-container-id-6 div.sk-parallel-item {display: flex;flex-direction: column;z-index: 1;position: relative;background-color: white;}#sk-container-id-6 div.sk-parallel-item:first-child::after {align-self: flex-end;width: 50%;}#sk-container-id-6 div.sk-parallel-item:last-child::after {align-self: flex-start;width: 50%;}#sk-container-id-6 div.sk-parallel-item:only-child::after {width: 0;}#sk-container-id-6 div.sk-dashed-wrapped {border: 1px dashed gray;margin: 0 0.4em 0.5em 0.4em;box-sizing: border-box;padding-bottom: 0.4em;background-color: white;}#sk-container-id-6 div.sk-label label {font-family: monospace;font-weight: bold;display: inline-block;line-height: 1.2em;}#sk-container-id-6 div.sk-label-container {text-align: center;}#sk-container-id-6 div.sk-container {/* jupyter's `normalize.less` sets `[hidden] { display: none; }` but bootstrap.min.css set `[hidden] { display: none !important; }` so we also need the `!important` here to be able to override the default hidden behavior on the sphinx rendered scikit-learn.org. See: https://github.com/scikit-learn/scikit-learn/issues/21755 */display: inline-block !important;position: relative;}#sk-container-id-6 div.sk-text-repr-fallback {display: none;}</style><div id=\"sk-container-id-6\" class=\"sk-top-container\"><div class=\"sk-text-repr-fallback\"><pre>NearestNeighbors(metric=&#x27;cosine&#x27;, n_neighbors=7)</pre><b>In a Jupyter environment, please rerun this cell to show the HTML representation or trust the notebook. <br />On GitHub, the HTML representation is unable to render, please try loading this page with nbviewer.org.</b></div><div class=\"sk-container\" hidden><div class=\"sk-item\"><div class=\"sk-estimator sk-toggleable\"><input class=\"sk-toggleable__control sk-hidden--visually\" id=\"sk-estimator-id-6\" type=\"checkbox\" checked><label for=\"sk-estimator-id-6\" class=\"sk-toggleable__label sk-toggleable__label-arrow\">NearestNeighbors</label><div class=\"sk-toggleable__content\"><pre>NearestNeighbors(metric=&#x27;cosine&#x27;, n_neighbors=7)</pre></div></div></div></div></div>"
            ]
          },
          "metadata": {},
          "execution_count": 85
        }
      ]
    },
    {
      "cell_type": "code",
      "source": [
        "the_books=model.kneighbors(rating_books_pivoted.loc[[\"Where the Heart Is (Oprah's Book Club (Paperback))\"]], 5, return_distance=True)\n",
        "print(the_books)\n",
        "temparray=np.array(the_books[1][0])\n",
        "print(temparray)\n",
        "anothertemparray= np.array(the_books[0][0])\n",
        "print(anothertemparray)\n",
        "# print(rating_books_pivoted.index[the_books[1]][0])\n",
        "for value in (rating_books_pivoted.index[temparray]):\n",
        "    print(value)\n"
      ],
      "metadata": {
        "id": "OL9Kv6awekrS"
      },
      "execution_count": null,
      "outputs": []
    },
    {
      "cell_type": "code",
      "execution_count": 119,
      "metadata": {
        "id": "f5ZUd-L1SQz7",
        "outputId": "87ca64bf-d374-46e1-c635-69770bc9d225",
        "colab": {
          "base_uri": "https://localhost:8080/"
        }
      },
      "outputs": [
        {
          "output_type": "stream",
          "name": "stdout",
          "text": [
            "The Weight of Water\n",
            "The Surgeon\n",
            "I Know This Much Is True\n",
            "The Lovely Bones: A Novel\n"
          ]
        }
      ],
      "source": [
        "# function to return recommended books - this will be tested\n",
        "def get_recommends(book = \"\"):\n",
        "  # print(book)\n",
        "  req_array=[]\n",
        "  req_array.append([book])\n",
        "  req_array.append([])\n",
        "  # print(req_array)\n",
        "  the_books=model.kneighbors(rating_books_pivoted.loc[[book]], 5, return_distance=True)\n",
        "  temparray=np.array(the_books[1][0])\n",
        "  anothertemparray= np.array(the_books[0][0])\n",
        "  # print(rating_books_pivoted.index[temparray])\n",
        "  for i in range(len(the_books[1][0])-1, 0, -1):\n",
        "    print(rating_books_pivoted.index[the_books[1][0][i]])\n",
        "\n",
        "  # print(the_books)\n",
        "  # return recommended_books\n",
        "\n",
        "get_recommends(\"Where the Heart Is (Oprah's Book Club (Paperback))\")"
      ]
    },
    {
      "cell_type": "code",
      "execution_count": null,
      "metadata": {
        "id": "jd2SLCh8oxMh"
      },
      "outputs": [],
      "source": [
        "books = get_recommends(\"Where the Heart Is (Oprah's Book Club (Paperback))\")\n",
        "print(books)\n",
        "\n",
        "def test_book_recommendation():\n",
        "  test_pass = True\n",
        "  recommends = get_recommends(\"Where the Heart Is (Oprah's Book Club (Paperback))\")\n",
        "  if recommends[0] != \"Where the Heart Is (Oprah's Book Club (Paperback))\":\n",
        "    test_pass = False\n",
        "  recommended_books = [\"I'll Be Seeing You\", 'The Weight of Water', 'The Surgeon', 'I Know This Much Is True']\n",
        "  recommended_books_dist = [0.8, 0.77, 0.77, 0.77]\n",
        "  for i in range(2):\n",
        "    if recommends[1][i][0] not in recommended_books:\n",
        "      test_pass = False\n",
        "    if abs(recommends[1][i][1] - recommended_books_dist[i]) >= 0.05:\n",
        "      test_pass = False\n",
        "  if test_pass:\n",
        "    print(\"You passed the challenge! 🎉🎉🎉🎉🎉\")\n",
        "  else:\n",
        "    print(\"You haven't passed yet. Keep trying!\")\n",
        "\n",
        "test_book_recommendation()"
      ]
    }
  ],
  "metadata": {
    "colab": {
      "name": "fcc_book_recommendation_knn.ipynb",
      "provenance": [],
      "include_colab_link": true
    },
    "kernelspec": {
      "display_name": "Python 3",
      "language": "python",
      "name": "python3"
    },
    "language_info": {
      "codemirror_mode": {
        "name": "ipython",
        "version": 3
      },
      "file_extension": ".py",
      "mimetype": "text/x-python",
      "name": "python",
      "nbconvert_exporter": "python",
      "pygments_lexer": "ipython3",
      "version": "3.6.5"
    }
  },
  "nbformat": 4,
  "nbformat_minor": 0
}